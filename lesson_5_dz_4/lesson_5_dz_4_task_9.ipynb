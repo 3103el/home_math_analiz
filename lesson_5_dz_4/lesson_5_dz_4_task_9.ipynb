{
 "cells": [
  {
   "cell_type": "code",
   "execution_count": 7,
   "id": "1b05563c",
   "metadata": {},
   "outputs": [],
   "source": [
    "import math\n",
    "from math import sin"
   ]
  },
  {
   "cell_type": "code",
   "execution_count": 14,
   "id": "3b30bc98",
   "metadata": {},
   "outputs": [
    {
     "name": "stdout",
     "output_type": "stream",
     "text": [
      "sin(1)=0.01745240643728351\n",
      "sin(2)=0.03489949670250097\n",
      "sin(3)=0.052335956242943835\n",
      "sin(4)=0.0697564737441253\n",
      "sin(5)=0.08715574274765817\n",
      "sin(6)=0.10452846326765347\n",
      "sin(7)=0.12186934340514748\n",
      "sin(8)=0.13917310096006544\n",
      "sin(9)=0.15643446504023087\n",
      "sin(10)=0.17364817766693033\n",
      "sin(11)=0.1908089953765448\n",
      "sin(12)=0.20791169081775934\n",
      "sin(13)=0.224951054343865\n",
      "sin(14)=0.24192189559966773\n",
      "sin(15)=0.25881904510252074\n",
      "sin(16)=0.27563735581699916\n",
      "sin(17)=0.29237170472273677\n",
      "sin(18)=0.3090169943749474\n",
      "sin(19)=0.3255681544571567\n",
      "sin(20)=0.3420201433256687\n",
      "sin(21)=0.35836794954530027\n",
      "sin(22)=0.374606593415912\n",
      "sin(23)=0.39073112848927377\n",
      "sin(24)=0.4067366430758002\n",
      "sin(25)=0.42261826174069944\n",
      "sin(26)=0.4383711467890774\n",
      "sin(27)=0.45399049973954675\n",
      "sin(28)=0.4694715627858908\n",
      "sin(29)=0.48480962024633706\n",
      "sin(30)=0.49999999999999994\n"
     ]
    }
   ],
   "source": [
    "i = 0\n",
    "while i<30:\n",
    "    for i in range(30):\n",
    "        i+=1\n",
    "        print(\"sin(\"+str(i)+\")=\"+str(math.sin(math.radians(i))))\n"
   ]
  },
  {
   "cell_type": "code",
   "execution_count": null,
   "id": "438b2933",
   "metadata": {},
   "outputs": [],
   "source": []
  }
 ],
 "metadata": {
  "kernelspec": {
   "display_name": "Python 3 (ipykernel)",
   "language": "python",
   "name": "python3"
  },
  "language_info": {
   "codemirror_mode": {
    "name": "ipython",
    "version": 3
   },
   "file_extension": ".py",
   "mimetype": "text/x-python",
   "name": "python",
   "nbconvert_exporter": "python",
   "pygments_lexer": "ipython3",
   "version": "3.9.7"
  }
 },
 "nbformat": 4,
 "nbformat_minor": 5
}
